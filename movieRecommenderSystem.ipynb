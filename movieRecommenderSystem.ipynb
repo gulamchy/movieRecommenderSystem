{
 "cells": [
  {
   "cell_type": "code",
   "execution_count": 40,
   "id": "3b65dcc6-9bac-4f69-a400-05d03b35b08d",
   "metadata": {},
   "outputs": [],
   "source": [
    "import numpy as np\n",
    "import pandas as pd\n",
    "import ast\n",
    "from sklearn.feature_extraction.text import CountVectorizer\n",
    "from sklearn.metrics.pairwise import cosine_similarity\n",
    "import nltk\n",
    "from nltk.stem.porter import PorterStemmer\n",
    "import pickle"
   ]
  },
  {
   "cell_type": "code",
   "execution_count": 41,
   "id": "61101b3e-37e5-496c-8f82-a4533d8f94a1",
   "metadata": {},
   "outputs": [],
   "source": [
    "movies = pd.read_csv('tmdb_5000_movies.csv')\n",
    "credits = pd.read_csv('tmdb_5000_credits.csv')"
   ]
  },
  {
   "cell_type": "code",
   "execution_count": 42,
   "id": "6f743a4a-beb6-4cd6-a4a8-cb17839ba1d3",
   "metadata": {},
   "outputs": [],
   "source": [
    "movies = movies.merge(credits, on='title')"
   ]
  },
  {
   "cell_type": "code",
   "execution_count": 43,
   "id": "48873004-b940-4af3-a54f-9a5a600e9dea",
   "metadata": {},
   "outputs": [],
   "source": [
    "# Eleminating other data except title, id, keywords, genres, overview, cast, crew\n",
    "movies = movies[['movie_id','title','overview','genres','keywords','cast','crew']]"
   ]
  },
  {
   "cell_type": "code",
   "execution_count": 44,
   "id": "8e5f2686-a31d-4d94-a665-b072e8afae3e",
   "metadata": {},
   "outputs": [
    {
     "data": {
      "text/plain": [
       "0"
      ]
     },
     "execution_count": 44,
     "metadata": {},
     "output_type": "execute_result"
    }
   ],
   "source": [
    "# Data Preprocessing\n",
    "movies.isnull().sum()\n",
    "movies.dropna(inplace=True)\n",
    "movies.duplicated().sum()"
   ]
  },
  {
   "cell_type": "code",
   "execution_count": 45,
   "id": "560e9f7e-2aa9-4b7a-9951-963d20fb5d65",
   "metadata": {},
   "outputs": [],
   "source": [
    "# Function for genres and keywords\n",
    "def convert(obj):\n",
    "    list = []\n",
    "    for i in ast.literal_eval(obj):\n",
    "        list.append(i['name'])\n",
    "    return list\n",
    "    \n",
    "# Preprocessing genres & keywords\n",
    "movies['genres'] = movies['genres'].apply(convert)\n",
    "movies['keywords'] = movies['keywords'].apply(convert)\n",
    "\n",
    "# Function for Cast\n",
    "def convertCast(obj):\n",
    "    list = []\n",
    "    count = 0\n",
    "    for i in ast.literal_eval(obj):\n",
    "        if count != 3:\n",
    "            list.append(i['name'])\n",
    "            count += 1\n",
    "        else:\n",
    "            break\n",
    "    return list\n",
    "\n",
    "# Preprocessing Cast\n",
    "movies['cast'] = movies['cast'].apply(convertCast)\n",
    "\n",
    "# Function for Crew\n",
    "def convertCrew(obj):\n",
    "    list = []\n",
    "    for i in ast.literal_eval(obj):\n",
    "        if i['job'] == 'Director':\n",
    "            list.append(i['name'])\n",
    "            break\n",
    "    return list\n",
    "\n",
    "# Preprocessing Crew\n",
    "movies['crew'] = movies['crew'].apply(convertCrew)\n",
    "                                      \n",
    "# Preprocessing Overview\n",
    "movies['overview'] = movies['overview'].apply(lambda x:x.split())        \n",
    "\n",
    "# Removing space by applying the transformer\n",
    "movies['genres'] = movies['genres'].apply(lambda x:[i.replace(\" \", \"\") for i in x])\n",
    "movies['keywords'] = movies['keywords'].apply(lambda x:[i.replace(\" \", \"\") for i in x])\n",
    "movies['cast'] = movies['cast'].apply(lambda x:[i.replace(\" \", \"\") for i in x])\n",
    "movies['crew'] = movies['crew'].apply(lambda x:[i.replace(\" \", \"\") for i in x])"
   ]
  },
  {
   "cell_type": "code",
   "execution_count": 46,
   "id": "b71a58a0-5629-4cc7-b109-60a8191ea4ab",
   "metadata": {},
   "outputs": [],
   "source": [
    "# Creating tags using five categories\n",
    "# Converting tags list items to a single string\n",
    "# converting the string to lowercase\n",
    "# then developing new datasets for the system\n",
    "\n",
    "movies['tags'] = movies['overview']+movies['genres']+movies['keywords']+movies['cast']+movies['crew']\n",
    "movies['tags'] = movies['tags'].apply(lambda x:\" \".join(x))\n",
    "movies['tags'] = movies['tags'].apply(lambda x:x.lower())\n",
    "new_df = movies[['movie_id','title','tags']]"
   ]
  },
  {
   "cell_type": "code",
   "execution_count": 47,
   "id": "e38a2d26-f741-48be-95ac-9bd6c78e2205",
   "metadata": {},
   "outputs": [
    {
     "name": "stderr",
     "output_type": "stream",
     "text": [
      "/var/folders/76/9bqf09_12tz0rkkc38gvwh880000gn/T/ipykernel_3121/3302714092.py:8: SettingWithCopyWarning: \n",
      "A value is trying to be set on a copy of a slice from a DataFrame.\n",
      "Try using .loc[row_indexer,col_indexer] = value instead\n",
      "\n",
      "See the caveats in the documentation: https://pandas.pydata.org/pandas-docs/stable/user_guide/indexing.html#returning-a-view-versus-a-copy\n",
      "  new_df['tags'] = new_df['tags'].apply(stem)\n"
     ]
    }
   ],
   "source": [
    "# implementing stemming\n",
    "ps = PorterStemmer()\n",
    "def stem(text):\n",
    "    y = []\n",
    "    for i in text.split():\n",
    "        y.append(ps.stem(i))\n",
    "    return \" \".join(y)\n",
    "new_df['tags'] = new_df['tags'].apply(stem)"
   ]
  },
  {
   "cell_type": "code",
   "execution_count": 48,
   "id": "55958e9f-2744-406c-b995-54d9a8dfb336",
   "metadata": {},
   "outputs": [],
   "source": [
    "# Vectorization\n",
    "cv = CountVectorizer(max_features = 5000, stop_words = 'english')\n",
    "vectors = cv.fit_transform(new_df['tags']).toarray()"
   ]
  },
  {
   "cell_type": "code",
   "execution_count": 49,
   "id": "a05ad0f7-dbcb-440c-8672-210925457070",
   "metadata": {},
   "outputs": [],
   "source": [
    "similarity = cosine_similarity(vectors)"
   ]
  },
  {
   "cell_type": "code",
   "execution_count": 50,
   "id": "e25c0dc2-c962-4100-840e-236d5c0ef9b0",
   "metadata": {},
   "outputs": [
    {
     "data": {
      "text/plain": [
       "array([1.        , 0.08346223, 0.0860309 , ..., 0.04499213, 0.        ,\n",
       "       0.        ])"
      ]
     },
     "execution_count": 50,
     "metadata": {},
     "output_type": "execute_result"
    }
   ],
   "source": [
    "similarity[0]"
   ]
  },
  {
   "cell_type": "code",
   "execution_count": 51,
   "id": "79f61d5b-77bb-4a78-bbb4-72655ac0879f",
   "metadata": {},
   "outputs": [
    {
     "data": {
      "text/plain": [
       "[(1216, 0.28676966733820225),\n",
       " (2409, 0.26901379342448517),\n",
       " (3730, 0.2605130246476754),\n",
       " (507, 0.255608593705383),\n",
       " (539, 0.25038669783359574)]"
      ]
     },
     "execution_count": 51,
     "metadata": {},
     "output_type": "execute_result"
    }
   ],
   "source": [
    "sorted(list(enumerate(similarity[0])),reverse = True,key =lambda x:x[1])[1:6]"
   ]
  },
  {
   "cell_type": "code",
   "execution_count": 52,
   "id": "3f8d7ed9-d28a-4c05-ab95-5cd610367070",
   "metadata": {},
   "outputs": [],
   "source": [
    "# movie recommendation fucntions\n",
    "def recommend(movie):\n",
    "    movieIndex = new_df[new_df['title'] == movie].index[0]\n",
    "    distances = similarity[movieIndex]\n",
    "    movieList = sorted(list(enumerate(distances)),reverse = True,key =lambda x:x[1])[1:6]\n",
    "\n",
    "    for i in movieList:\n",
    "        print(new_df.iloc[i[0]].title)"
   ]
  },
  {
   "cell_type": "code",
   "execution_count": 53,
   "id": "3c4a7bad-6e80-45dc-8cda-0c68b8b089d0",
   "metadata": {},
   "outputs": [
    {
     "name": "stdout",
     "output_type": "stream",
     "text": [
      "Aliens vs Predator: Requiem\n",
      "Aliens\n",
      "Falcon Rising\n",
      "Independence Day\n",
      "Titan A.E.\n"
     ]
    }
   ],
   "source": [
    "recommend('Avatar')"
   ]
  },
  {
   "cell_type": "code",
   "execution_count": 54,
   "id": "b75a7b72-dd7e-43a1-ad07-33029912d73a",
   "metadata": {},
   "outputs": [],
   "source": [
    "pickle.dump(new_df.to_dict(),open('movie.pkl','wb'))"
   ]
  },
  {
   "cell_type": "code",
   "execution_count": 55,
   "id": "62a9220d-1d2c-4277-8a80-699b71de7890",
   "metadata": {},
   "outputs": [],
   "source": [
    "pickle.dump(similarity,open('similarity.pkl','wb'))"
   ]
  },
  {
   "cell_type": "code",
   "execution_count": null,
   "id": "655ca232-441f-49e3-b9b2-c1f5ff8c71ef",
   "metadata": {},
   "outputs": [],
   "source": []
  },
  {
   "cell_type": "code",
   "execution_count": null,
   "id": "32207515-478f-4823-b3ee-9896494f9915",
   "metadata": {},
   "outputs": [],
   "source": []
  },
  {
   "cell_type": "code",
   "execution_count": null,
   "id": "c9851673-ab0a-4983-861f-4adf0e0413b3",
   "metadata": {},
   "outputs": [],
   "source": []
  },
  {
   "cell_type": "code",
   "execution_count": null,
   "id": "d24b7d3e-a067-44ab-b7cd-c830d3d45c36",
   "metadata": {},
   "outputs": [],
   "source": []
  },
  {
   "cell_type": "code",
   "execution_count": null,
   "id": "aca85705-9a61-4876-8c13-214713b3f976",
   "metadata": {},
   "outputs": [],
   "source": []
  },
  {
   "cell_type": "code",
   "execution_count": null,
   "id": "a7985ed3-d162-4457-9848-5d04d5a7408f",
   "metadata": {},
   "outputs": [],
   "source": []
  }
 ],
 "metadata": {
  "kernelspec": {
   "display_name": "Python 3 (ipykernel)",
   "language": "python",
   "name": "python3"
  },
  "language_info": {
   "codemirror_mode": {
    "name": "ipython",
    "version": 3
   },
   "file_extension": ".py",
   "mimetype": "text/x-python",
   "name": "python",
   "nbconvert_exporter": "python",
   "pygments_lexer": "ipython3",
   "version": "3.12.1"
  }
 },
 "nbformat": 4,
 "nbformat_minor": 5
}
